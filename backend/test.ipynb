{
 "cells": [
  {
   "cell_type": "code",
   "execution_count": 26,
   "id": "8cdc416e",
   "metadata": {},
   "outputs": [],
   "source": [
    "import requests\n",
    "from bs4 import BeautifulSoup\n"
   ]
  },
  {
   "cell_type": "code",
   "execution_count": 25,
   "id": "80689f7d",
   "metadata": {},
   "outputs": [],
   "source": [
    "def downloadVideo(link):\n",
    "    cookies = {\n",
    "        '_ga': 'GA1.1.794411293.1749696088',\n",
    "        '__gads': 'ID=bdd91e43bf5f715e:T=1749696087:RT=1749696087:S=ALNI_MbA1ZBbK9U5S8Nw6ZqU6403-4-4nQ',\n",
    "        '__gpi': 'UID=00001026db108bfc:T=1749696087:RT=1749696087:S=ALNI_MYHuqydyvLgrv1taZYv1eTEAu8Lmw',\n",
    "        '__eoi': 'ID=3f922b8f184b5da7:T=1749696087:RT=1749696087:S=AA-AfjYsBpmw7ExDiwpg4WOq4WFV',\n",
    "        'FCCDCF': '%5Bnull%2Cnull%2Cnull%2Cnull%2Cnull%2Cnull%2C%5B%5B13%2C%22%5B%5C%22DBABL~BVQqAAAAAg%5C%22%2C%5B%5B7%2C%5B1749696135%2C220373000%5D%5D%5D%5D%22%5D%5D%5D',\n",
    "        'FCNEC': '%5B%5B%22AKsRol-uba78aRnZi32pCBxOOmho_whoDYO6G89LZlqstaFh4A9VD2nrNKu8drHl6CsoQU5F8kbIs1jXqadCgBEb2sNHp6Yd8gqKKTndUNXXsQwfCaAYgCOqsoPWV479flLeRDA5xFdnIMG5AswFPtNnPZBDtScaFA%3D%3D%22%5D%5D',\n",
    "        '_ga_ZSF3D6YSLC': 'GS2.1.s1749696087$o1$g1$t1749696140$j7$l0$h0',\n",
    "    }\n",
    "\n",
    "    headers = {\n",
    "        'accept': '*/*',\n",
    "        'accept-language': 'en-US,en;q=0.9',\n",
    "        'content-type': 'application/x-www-form-urlencoded; charset=UTF-8',\n",
    "        'hx-current-url': 'https://ssstik.io/',\n",
    "        'hx-request': 'true',\n",
    "        'hx-target': 'target',\n",
    "        'hx-trigger': '_gcaptcha_pt',\n",
    "        'origin': 'https://ssstik.io',\n",
    "        'priority': 'u=1, i',\n",
    "        'referer': 'https://ssstik.io/',\n",
    "        'sec-ch-ua': '\"Google Chrome\";v=\"137\", \"Chromium\";v=\"137\", \"Not/A)Brand\";v=\"24\"',\n",
    "        'sec-ch-ua-mobile': '?0',\n",
    "        'sec-ch-ua-platform': '\"Windows\"',\n",
    "        'sec-fetch-dest': 'empty',\n",
    "        'sec-fetch-mode': 'cors',\n",
    "        'sec-fetch-site': 'same-origin',\n",
    "        'user-agent': 'Mozilla/5.0 (Windows NT 10.0; Win64; x64) AppleWebKit/537.36 (KHTML, like Gecko) Chrome/137.0.0.0 Safari/537.36',\n",
    "        # 'cookie': '_ga=GA1.1.794411293.1749696088; __gads=ID=bdd91e43bf5f715e:T=1749696087:RT=1749696087:S=ALNI_MbA1ZBbK9U5S8Nw6ZqU6403-4-4nQ; __gpi=UID=00001026db108bfc:T=1749696087:RT=1749696087:S=ALNI_MYHuqydyvLgrv1taZYv1eTEAu8Lmw; __eoi=ID=3f922b8f184b5da7:T=1749696087:RT=1749696087:S=AA-AfjYsBpmw7ExDiwpg4WOq4WFV; FCCDCF=%5Bnull%2Cnull%2Cnull%2Cnull%2Cnull%2Cnull%2C%5B%5B13%2C%22%5B%5C%22DBABL~BVQqAAAAAg%5C%22%2C%5B%5B7%2C%5B1749696135%2C220373000%5D%5D%5D%5D%22%5D%5D%5D; FCNEC=%5B%5B%22AKsRol-uba78aRnZi32pCBxOOmho_whoDYO6G89LZlqstaFh4A9VD2nrNKu8drHl6CsoQU5F8kbIs1jXqadCgBEb2sNHp6Yd8gqKKTndUNXXsQwfCaAYgCOqsoPWV479flLeRDA5xFdnIMG5AswFPtNnPZBDtScaFA%3D%3D%22%5D%5D; _ga_ZSF3D6YSLC=GS2.1.s1749696087$o1$g1$t1749696140$j7$l0$h0',\n",
    "    }\n",
    "\n",
    "    params = {\n",
    "        'url': 'dl',\n",
    "    }\n",
    "\n",
    "    data = {\n",
    "        'id': link,\n",
    "        'locale': 'en',\n",
    "        'tt': 'azM1ODQ3',\n",
    "    }\n",
    "\n",
    "    response = requests.post('https://ssstik.io/abc', params=params, cookies=cookies, headers=headers, data=data)\n",
    "\n",
    "    downloadSoup = BeautifulSoup(response.text, \"html\")\n",
    "    response"
   ]
  }
 ],
 "metadata": {
  "kernelspec": {
   "display_name": ".venv",
   "language": "python",
   "name": "python3"
  },
  "language_info": {
   "codemirror_mode": {
    "name": "ipython",
    "version": 3
   },
   "file_extension": ".py",
   "mimetype": "text/x-python",
   "name": "python",
   "nbconvert_exporter": "python",
   "pygments_lexer": "ipython3",
   "version": "3.12.5"
  }
 },
 "nbformat": 4,
 "nbformat_minor": 5
}
